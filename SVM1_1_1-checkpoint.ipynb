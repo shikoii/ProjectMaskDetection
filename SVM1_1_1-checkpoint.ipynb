{
 "cells": [
  {
   "cell_type": "code",
   "execution_count": 1,
   "metadata": {
    "id": "_rsF4Ax13R2g"
   },
   "outputs": [],
   "source": [
    "import pandas as pd\n",
    "import os\n",
    "import cv2\n",
    "import numpy as np\n",
    "import matplotlib.pyplot as plt\n",
    "import pickle\n",
    "from sklearn import datasets\n",
    "from sklearn import svm\n",
    "from sklearn.decomposition import PCA"
   ]
  },
  {
   "cell_type": "markdown",
   "metadata": {},
   "source": [
    "# Loading And Construct"
   ]
  },
  {
   "cell_type": "code",
   "execution_count": 2,
   "metadata": {
    "id": "7w6LgVk65Twm"
   },
   "outputs": [],
   "source": [
    "images = np.load(\"C:\\\\Users\\\\CH\\\\Desktop\\\\MLP\\\\gs2.npy\")"
   ]
  },
  {
   "cell_type": "code",
   "execution_count": 3,
   "metadata": {
    "colab": {
     "base_uri": "https://localhost:8080/"
    },
    "id": "npyWiG6bOthM",
    "outputId": "5c6d7ecd-5da4-444a-d88b-e94584988aa7"
   },
   "outputs": [
    {
     "name": "stdout",
     "output_type": "stream",
     "text": [
      "(40250, 256, 192)\n"
     ]
    }
   ],
   "source": [
    "print(images.shape)"
   ]
  },
  {
   "cell_type": "code",
   "execution_count": 4,
   "metadata": {
    "id": "m03IMqyCPIbl"
   },
   "outputs": [],
   "source": [
    "#To constrcut y, x does not need to be construct , refer to L11\n",
    "\n",
    "count = 1 \n",
    "y = []\n",
    "for x in range(40250):\n",
    "  y.append(count)\n",
    "  if x == count*250:\n",
    "    count +=1\n",
    "\n",
    "y = np.array(y)\n"
   ]
  },
  {
   "cell_type": "code",
   "execution_count": 5,
   "metadata": {
    "colab": {
     "base_uri": "https://localhost:8080/"
    },
    "id": "X6-4cUjsQZ7U",
    "outputId": "1ae302f6-cb08-4df3-d970-19d0fccd2bc9"
   },
   "outputs": [
    {
     "name": "stdout",
     "output_type": "stream",
     "text": [
      "(40250,)\n"
     ]
    }
   ],
   "source": [
    "print(y.shape)"
   ]
  },
  {
   "cell_type": "code",
   "execution_count": 6,
   "metadata": {},
   "outputs": [],
   "source": [
    "s1,s2,s3 = images.shape\n",
    "images = images.reshape(s1,-1)"
   ]
  },
  {
   "cell_type": "code",
   "execution_count": 7,
   "metadata": {
    "id": "h7XCf5T29UcG"
   },
   "outputs": [],
   "source": [
    "#60 train 20 test 20 validate\n",
    "from sklearn.model_selection import train_test_split\n",
    "\n",
    "X_train, X_test, y_train, y_test = train_test_split(images, y, test_size=0.2,random_state=109) "
   ]
  },
  {
   "cell_type": "code",
   "execution_count": 8,
   "metadata": {},
   "outputs": [],
   "source": [
    "del images"
   ]
  },
  {
   "cell_type": "code",
   "execution_count": 9,
   "metadata": {},
   "outputs": [],
   "source": [
    "del y"
   ]
  },
  {
   "cell_type": "markdown",
   "metadata": {},
   "source": [
    "# Training the model"
   ]
  },
  {
   "cell_type": "code",
   "execution_count": 11,
   "metadata": {},
   "outputs": [
    {
     "name": "stdout",
     "output_type": "stream",
     "text": [
      "[LibSVM]"
     ]
    },
    {
     "name": "stderr",
     "output_type": "stream",
     "text": [
      "C:\\Users\\CH\\anaconda3\\lib\\site-packages\\sklearn\\svm\\_base.py:246: ConvergenceWarning: Solver terminated early (max_iter=200).  Consider pre-processing your data with StandardScaler or MinMaxScaler.\n",
      "  warnings.warn('Solver terminated early (max_iter=%i).'\n"
     ]
    }
   ],
   "source": [
    "C = 1.0 \n",
    "svc = svm.SVC(kernel='linear', verbose=True, C=1, max_iter=200).fit(X_train, y_train)"
   ]
  },
  {
   "cell_type": "code",
   "execution_count": 11,
   "metadata": {
    "scrolled": true
   },
   "outputs": [],
   "source": [
    "y_pred = svm.predict(X_test)"
   ]
  },
  {
   "cell_type": "code",
   "execution_count": 12,
   "metadata": {},
   "outputs": [
    {
     "name": "stdout",
     "output_type": "stream",
     "text": [
      "Accuracy: 0.8214906832298137\n"
     ]
    }
   ],
   "source": [
    "from sklearn import metrics\n",
    "print(\"Accuracy:\",metrics.accuracy_score(y_test, y_pred))"
   ]
  },
  {
   "cell_type": "code",
   "execution_count": 13,
   "metadata": {},
   "outputs": [
    {
     "name": "stdout",
     "output_type": "stream",
     "text": [
      "[127 103 147 114 153  56  81  86 120   1  89 144  24 138 144]\n",
      "[127 103 147 156 153  88  81  86 120   1  89 144  24 138  64]\n"
     ]
    }
   ],
   "source": [
    "X_new = X_test[:15]\n",
    "y_pred = svm.predict(X_new)\n",
    "print(y_pred)\n",
    "print(y_test[:15])"
   ]
  },
  {
   "cell_type": "markdown",
   "metadata": {},
   "source": [
    "# Classification Report "
   ]
  },
  {
   "cell_type": "code",
   "execution_count": 18,
   "metadata": {},
   "outputs": [
    {
     "name": "stdout",
     "output_type": "stream",
     "text": [
      "              precision    recall  f1-score   support\n",
      "\n",
      "           1       1.00      1.00      1.00         1\n",
      "          24       1.00      1.00      1.00         1\n",
      "          56       0.00      0.00      0.00         0\n",
      "          64       0.00      0.00      0.00         1\n",
      "          81       1.00      1.00      1.00         1\n",
      "          86       1.00      1.00      1.00         1\n",
      "          88       0.00      0.00      0.00         1\n",
      "          89       1.00      1.00      1.00         1\n",
      "         103       1.00      1.00      1.00         1\n",
      "         114       0.00      0.00      0.00         0\n",
      "         120       1.00      1.00      1.00         1\n",
      "         127       1.00      1.00      1.00         1\n",
      "         138       1.00      1.00      1.00         1\n",
      "         144       0.50      1.00      0.67         1\n",
      "         147       1.00      1.00      1.00         1\n",
      "         153       1.00      1.00      1.00         1\n",
      "         156       0.00      0.00      0.00         1\n",
      "\n",
      "    accuracy                           0.80        15\n",
      "   macro avg       0.68      0.71      0.69        15\n",
      "weighted avg       0.77      0.80      0.78        15\n",
      "\n"
     ]
    }
   ],
   "source": [
    "from sklearn import metrics\n",
    "import numpy as np\n",
    "\n",
    "print(metrics.classification_report(y_test[:15], y_pred[:15]))"
   ]
  },
  {
   "cell_type": "markdown",
   "metadata": {},
   "source": [
    "# Heatmap"
   ]
  },
  {
   "cell_type": "code",
   "execution_count": 32,
   "metadata": {},
   "outputs": [
    {
     "data": {
      "text/plain": [
       "Text(62.5, 0.5, 'Actual')"
      ]
     },
     "execution_count": 32,
     "metadata": {},
     "output_type": "execute_result"
    },
    {
     "data": {
      "image/png": "[encoded data removed]",
      "text/plain": [
       "<Figure size 720x504 with 2 Axes>"
      ]
     },
     "metadata": {},
     "output_type": "display_data"
    }
   ],
   "source": [
    "from sklearn.metrics import confusion_matrix\n",
    "import seaborn as sn\n",
    "\n",
    "\n",
    "matrix=confusion_matrix(y_test[:15], y_pred[:15])\n",
    "df_cm = pd.DataFrame(matrix)\n",
    "plt.figure(figsize=(10,7))\n",
    "sn.set(font_scale=1.4)\n",
    "sn.heatmap(df_cm, annot=True)\n",
    "plt.xlabel(\"Predicted\")\n",
    "plt.ylabel(\"Actual\")"
   ]
  },
  {
   "cell_type": "markdown",
   "metadata": {},
   "source": [
    "#  Saving And Loading The Model"
   ]
  },
  {
   "cell_type": "code",
   "execution_count": 14,
   "metadata": {},
   "outputs": [],
   "source": [
    "import pickle\n",
    "\n",
    "pickle.dump(svc, open(\"C:\\\\users\\\\CH\\\\Desktop\\\\MLP\\\\modelsvm.sav\" ,'wb'))"
   ]
  },
  {
   "cell_type": "code",
   "execution_count": 10,
   "metadata": {},
   "outputs": [],
   "source": [
    "svm = pickle.load(open(\"C:\\\\users\\\\CH\\\\Desktop\\\\MLP\\\\modelsvm.sav\" ,'rb'))"
   ]
  },
  {
   "cell_type": "markdown",
   "metadata": {},
   "source": [
    "# Grayscaling images and saving array"
   ]
  },
  {
   "cell_type": "code",
   "execution_count": 6,
   "metadata": {},
   "outputs": [],
   "source": [
    "import cv2\n",
    "count = 1\n",
    "for x in sorted(os.listdir(\"D:\\\\Program Files (x86)\\\\Faces\") , key = lambda x:int(x.split('.')[0])):\n",
    "    img = cv2.imread(\"D:\\\\Program Files (x86)\\\\Faces\\\\\" + x)\n",
    "    greyscale = cv2.cvtColor(img,cv2.COLOR_BGR2GRAY)\n",
    "    cv2.imwrite(\"D:\\\\Program Files (x86)\\\\grayscale\\\\\"+ str(count) + \".jpg\",greyscale)\n",
    "    count += 1"
   ]
  },
  {
   "cell_type": "code",
   "execution_count": 9,
   "metadata": {},
   "outputs": [],
   "source": [
    "count = 1\n",
    "for x in sorted(os.listdir(\"D:\\\\Program Files (x86)\\\\grayscale\\\\\") , key = lambda x:int(x.split('.')[0])):\n",
    "    img = cv2.imread(\"D:\\\\Program Files (x86)\\\\grayscale\\\\\" + x)\n",
    "    greyscales = img/255\n",
    "    cv2.imwrite(\"D:\\\\Program Files (x86)\\\\grayscale1\\\\\"+ str(count) + \".jpg\",greyscales)\n",
    "    count += 1"
   ]
  },
  {
   "cell_type": "code",
   "execution_count": 10,
   "metadata": {},
   "outputs": [],
   "source": [
    "images = []\n",
    "for x in sorted(os.listdir('D:\\\\Program Files (x86)\\\\grayscale1'),key = lambda x:int(x.split('.')[0])):\n",
    "    img = cv2.imread(\"D:\\\\Program Files (x86)\\\\grayscale1\\\\\"+x, cv2.IMREAD_GRAYSCALE)\n",
    "    images.append(img)\n",
    "images = np.array(images)"
   ]
  },
  {
   "cell_type": "code",
   "execution_count": 11,
   "metadata": {},
   "outputs": [],
   "source": [
    "np.save('D:\\\\Program Files (x86)\\\\gs1', np.array(images))"
   ]
  },
  {
   "cell_type": "code",
   "execution_count": null,
   "metadata": {},
   "outputs": [],
   "source": []
  }
 ],
 "metadata": {
  "accelerator": "GPU",
  "colab": {
   "collapsed_sections": [],
   "name": "SVM1.ipynb",
   "provenance": []
  },
  "kernelspec": {
   "display_name": "Python 3",
   "language": "python",
   "name": "python3"
  },
  "language_info": {
   "codemirror_mode": {
    "name": "ipython",
    "version": 3
   },
   "file_extension": ".py",
   "mimetype": "text/x-python",
   "name": "python",
   "nbconvert_exporter": "python",
   "pygments_lexer": "ipython3",
   "version": "3.8.5"
  }
 },
 "nbformat": 4,
 "nbformat_minor": 1
}
